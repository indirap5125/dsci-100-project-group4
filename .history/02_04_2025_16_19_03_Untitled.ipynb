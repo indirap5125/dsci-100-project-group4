{
 "cells": [
  {
   "cell_type": "markdown",
   "id": "4243a8a6-b28f-46c9-94ef-156f3c2dd6d5",
   "metadata": {},
   "source": [
    "## Project Final Report"
   ]
  },
  {
   "cell_type": "code",
   "execution_count": null,
   "id": "3d3fdb3b-6905-4c4b-9939-894cbf93e232",
   "metadata": {},
   "outputs": [],
   "source": [
    "library(tidyverse)\n",
    "library(repr)\n",
    "library(tidymodels)\n",
    "set.seed(1234)"
   ]
  },
  {
   "cell_type": "markdown",
   "id": "8d84379f-2281-4c89-84bb-3865a8edfe82",
   "metadata": {},
   "source": [
    "### Methods and Results"
   ]
  },
  {
   "cell_type": "code",
   "execution_count": null,
   "id": "1375cd1b-8b44-468b-b854-d6d31bd3dfed",
   "metadata": {},
   "outputs": [],
   "source": [
    "url_players<-\"https://drive.google.com/uc?export=download&id=1M8-duCFfUh3MYjEn0j2WWRXzVMzTG97x\"\n",
    "players <- read_csv(url_players)\n",
    "\n",
    "url_sessions <-\"https://drive.google.com/uc?export=download&id=1DNxV79eDG7KkIWn6hIwgWeAeUN074SCS\"\n",
    "sessions <-read_csv(url_sessions)"
   ]
  },
  {
   "cell_type": "code",
   "execution_count": null,
   "id": "a8669de9-d822-4aff-8429-f6533d5b167e",
   "metadata": {},
   "outputs": [],
   "source": [
    "players_tidy<- players|>\n",
    "               select(gender, experience, Age, played_hours)|>\n",
    "               mutate(gender=as_factor(gender))|>\n",
    "               mutate(experience= as_factor(experience))|>\n",
    "               filter(!is.na(played_hours))\n",
    "#Mean of qauntitative data from players data set\n",
    "mean_values<- players|>\n",
    "              select(Age, played_hours) |>\n",
    "              summarise(\n",
    "                    mean_age = mean(Age, na.rm=TRUE),\n",
    "                  mean_played_hours = mean(played_hours, na.rm=TRUE))\n",
    "\n",
    "mean_values_table <- as_tibble(mean_values)\n",
    "mean_values_table\n",
    "\n",
    "summary_data<-summary(players_tidy)\n",
    "summary_data\n",
    "\n",
    "data_split<- initial_split(players_tidy, prop=0.70, strata= played_hours )\n",
    "data_training <- training (data_split)\n",
    "data_testing <- testing(data_split)\n",
    "\n",
    "#Visualization of Data \n",
    "players_plot1<-data_training|>\n",
    "               ggplot(aes(x=Age, y=played_hours,color=experience))+\n",
    "               geom_point()+\n",
    "               labs(x=\"Age\", y=\"Total Played Hours\", fill=\"Experience\", title=\"Gender vs Total Hours Played\")\n",
    "players_plot1\n"
   ]
  },
  {
   "cell_type": "markdown",
   "id": "8d461804-2521-422e-9548-c466b4707ebf",
   "metadata": {},
   "source": [
    "### Introduction"
   ]
  },
  {
   "cell_type": "code",
   "execution_count": null,
   "id": "5793ea43-ed73-4d1e-ad55-f042201d56d3",
   "metadata": {},
   "outputs": [],
   "source": []
  }
 ],
 "metadata": {
  "kernelspec": {
   "display_name": "R",
   "language": "R",
   "name": "ir"
  },
  "language_info": {
   "codemirror_mode": "r",
   "file_extension": ".r",
   "mimetype": "text/x-r-source",
   "name": "R",
   "pygments_lexer": "r",
   "version": "4.3.3"
  }
 },
 "nbformat": 4,
 "nbformat_minor": 5
}
