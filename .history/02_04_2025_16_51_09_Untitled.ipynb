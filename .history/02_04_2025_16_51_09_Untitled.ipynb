{
 "cells": [
  {
   "cell_type": "markdown",
   "id": "4243a8a6-b28f-46c9-94ef-156f3c2dd6d5",
   "metadata": {},
   "source": [
    "## Project Final Report"
   ]
  },
  {
   "cell_type": "code",
   "execution_count": null,
   "id": "3d3fdb3b-6905-4c4b-9939-894cbf93e232",
   "metadata": {},
   "outputs": [],
   "source": [
    "library(tidyverse)\n",
    "library(repr)\n",
    "library(tidymodels)\n",
    "set.seed(1234)"
   ]
  },
  {
   "cell_type": "markdown",
   "id": "8d84379f-2281-4c89-84bb-3865a8edfe82",
   "metadata": {},
   "source": [
    "### Methods and Results"
   ]
  },
  {
   "cell_type": "code",
   "execution_count": null,
   "id": "1375cd1b-8b44-468b-b854-d6d31bd3dfed",
   "metadata": {},
   "outputs": [],
   "source": [
    "url_players<-\"https://drive.google.com/uc?export=download&id=1M8-duCFfUh3MYjEn0j2WWRXzVMzTG97x\"\n",
    "players <- read_csv(url_players)\n",
    "\n",
    "url_sessions <-\"https://drive.google.com/uc?export=download&id=1DNxV79eDG7KkIWn6hIwgWeAeUN074SCS\"\n",
    "sessions <-read_csv(url_sessions)"
   ]
  },
  {
   "cell_type": "code",
   "execution_count": null,
   "id": "a8669de9-d822-4aff-8429-f6533d5b167e",
   "metadata": {},
   "outputs": [],
   "source": [
    "players_tidy<- players|>\n",
    "               mutate(gender=as_factor(gender))|>\n",
    "               mutate(experience= as_factor(experience))|>\n",
    "               filter(!is.na(played_hours))|>\n",
    "               filter(!is.na(Age))\n",
    "\n",
    "tidy_sessions <- sessions |>\n",
    "    separate(col = start_time, into = c(\"start_date\", \"start_time\"), sep = \" \")|>\n",
    "    separate(col = end_time, into = c(\"end_date\", \"end_time\"), sep = \" \")|>\n",
    "    mutate(start_time = hm(start_time))|>\n",
    "    mutate(end_time = hm(end_time))|>\n",
    "    mutate(played_minutes = end_time-start_time)|>\n",
    "    mutate(played_minutes = as.numeric(played_minutes)/60)\n",
    "\n",
    "data_combined<- inner_join(players_tidy, tidy_sessions, by = \"hashedEmail\")\n",
    "data_combined\n",
    "\n",
    "data_selected<-data_combined| select(Age, experience, played_minutes, gender)\n",
    "daat_selected\n"
   ]
  },
  {
   "cell_type": "markdown",
   "id": "8d461804-2521-422e-9548-c466b4707ebf",
   "metadata": {},
   "source": [
    "### Introduction"
   ]
  },
  {
   "cell_type": "code",
   "execution_count": null,
   "id": "5793ea43-ed73-4d1e-ad55-f042201d56d3",
   "metadata": {},
   "outputs": [],
   "source": []
  }
 ],
 "metadata": {
  "kernelspec": {
   "display_name": "R",
   "language": "R",
   "name": "ir"
  },
  "language_info": {
   "codemirror_mode": "r",
   "file_extension": ".r",
   "mimetype": "text/x-r-source",
   "name": "R",
   "pygments_lexer": "r",
   "version": "4.3.3"
  }
 },
 "nbformat": 4,
 "nbformat_minor": 5
}
