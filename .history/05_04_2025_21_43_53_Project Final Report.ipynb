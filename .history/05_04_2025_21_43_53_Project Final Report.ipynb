{
 "cells": [
  {
   "cell_type": "markdown",
   "id": "4243a8a6-b28f-46c9-94ef-156f3c2dd6d5",
   "metadata": {},
   "source": [
    "## Project Final Report"
   ]
  },
  {
   "cell_type": "code",
   "execution_count": null,
   "id": "3d3fdb3b-6905-4c4b-9939-894cbf93e232",
   "metadata": {},
   "outputs": [],
   "source": [
    "library(tidyverse)\n",
    "library(repr)\n",
    "library(tidymodels)\n",
    "set.seed(1234)"
   ]
  },
  {
   "cell_type": "markdown",
   "id": "8d461804-2521-422e-9548-c466b4707ebf",
   "metadata": {},
   "source": [
    "## Introduction"
   ]
  },
  {
   "cell_type": "markdown",
   "id": "63b30c4b-c299-4950-bdbc-0e024b11c92f",
   "metadata": {},
   "source": [
    "A research group in Computer Science at UBC, led by Frank Wood, collected data about how people play video games. They set up a MineCraft server, where the data collected consisted of two datasets: players.csv and sessions.csv. Our report will look at how player characteristics predict their number of played hours on the server. \n",
    "\n",
    "Our group was interested in the “kinds” of players that are most likely to contribute a large amount of data, such that they can be targeted in recruiting efforts. To investigate this, we chose the specific research question: **Can gender, experience, and age predict the total number of minutes of playtime from the dataset?** On a broader scale, these insights can help video game companies develop strategies that enhance user experience and engagement across diverse populations.\n",
    "\n",
    "To answer the question, we must use both datasets provided (players.csv and sessions.csv). This data was collected by the UBC research group by recording play sessions, to collect information on player skill level, past play sessions, and player demographics. The players dataset contains data pertaining to our explanatory variables (gender, experience, age) whilst the sessions dataset contains data pertaining to the response variable (total playtime minutes)."
   ]
  },
  {
   "cell_type": "markdown",
   "id": "516e8f35-c861-4c71-b436-5b597e5afb4e",
   "metadata": {},
   "source": [
    "### Datasets\n",
    "\n",
    "**players.csv**\n",
    "This dataset contains 196 observations and 7 variables: \n",
    "* Experience (character): Player’s level of experience with Minecraft.\n",
    "* hashedEmail (character): Hashed version of the player’s email, likely for anonymity.\n",
    "* name (character): Player's name.\n",
    "* gender(character): Self-reported gender of.\n",
    "* played_hours (double): Total number of hours a player has spent playing the player.\n",
    "* age (double): Player's age\n",
    "* subscribe (logical): Whether or not the player is subscribed to the game-related newsletter\n",
    "\n",
    "**sessions.csv**\n",
    "This dataset contains 1535 observations and 5 variables:\n",
    "* hashedEmail (character): Hashed version of the player’s email, likely for anonymity.\n",
    "* start_time (character): start date and time of play session.\n",
    "* end_time (character): end date and time of play session.\n",
    "* original_start_time (double): start time of a play seesion, in UNIX time.\n",
    "* original_end_time (double): send of play session, in UNIX time.\n"
   ]
  },
  {
   "cell_type": "markdown",
   "id": "6fc8f541-6d3b-469b-ab0e-21b3c862fd15",
   "metadata": {},
   "source": [
    "**potential issues**\n",
    "Upon examining the data, there are certain issues which may interfere with our data analysis if left unaddressed: \n",
    "* In players.csv, the age column has 2 missing values.\n",
    "* In sessions.csv, start_time and end_time are in a character format, which should be converted to a proper datetime format and split in order to isolate the total hours played (the difference between end_time and start_time)\n",
    "* There are outliers (i.e. individuals with extreme playtimes) which can skew the analysis.\n"
   ]
  },
  {
   "cell_type": "markdown",
   "id": "8d84379f-2281-4c89-84bb-3865a8edfe82",
   "metadata": {},
   "source": [
    "## Methods and Results"
   ]
  },
  {
   "cell_type": "markdown",
   "id": "f38a917b-a236-4ab5-9b7e-f6c818e0fd6b",
   "metadata": {},
   "source": [
    "First, we load in both datasets into our R environment. "
   ]
  },
  {
   "cell_type": "code",
   "execution_count": null,
   "id": "1375cd1b-8b44-468b-b854-d6d31bd3dfed",
   "metadata": {},
   "outputs": [],
   "source": [
    "url_players<-\"https://drive.google.com/uc?export=download&id=1M8-duCFfUh3MYjEn0j2WWRXzVMzTG97x\"\n",
    "players <- read_csv(url_players)\n",
    "\n",
    "url_sessions <-\"https://drive.google.com/uc?export=download&id=1DNxV79eDG7KkIWn6hIwgWeAeUN074SCS\"\n",
    "sessions <-read_csv(url_sessions)"
   ]
  },
  {
   "cell_type": "markdown",
   "id": "5353afc8-9058-455e-9d07-419f42c38b8a",
   "metadata": {},
   "source": [
    "We then mutated and wrangled the data by converting the columns to their proper data types in preparation for visualization. In the sessions.csv dataset, we calculated the difference between the start and end time for a particular session to find the number of minutes played. For simplification, we also decided to merge both tidied datasets into one, using “hashedEmail” as the key."
   ]
  },
  {
   "cell_type": "code",
   "execution_count": null,
   "id": "a8669de9-d822-4aff-8429-f6533d5b167e",
   "metadata": {},
   "outputs": [],
   "source": [
    "players_tidy<- players|>\n",
    "               mutate(gender=as_factor(gender))|>\n",
    "               mutate(experience= as_factor(experience))|>\n",
    "               filter(!is.na(played_hours))|>\n",
    "               filter(!is.na(Age))\n",
    "               \n",
    "\n",
    "tidy_sessions <- sessions |>\n",
    "    separate(col = start_time, into = c(\"start_date\", \"start_time\"), sep = \" \")|>\n",
    "    separate(col = end_time, into = c(\"end_date\", \"end_time\"), sep = \" \")|>\n",
    "    mutate(start_time = hm(start_time))|>\n",
    "    mutate(end_time = hm(end_time))|>\n",
    "    mutate(played_minutes = end_time-start_time)|>\n",
    "    mutate(played_minutes = abs(as.numeric(played_minutes)/60))\n",
    "\n",
    "\n",
    "data_combined<- inner_join(players_tidy, tidy_sessions, by = \"hashedEmail\")\n",
    "\n",
    "data_selected<-data_combined|> select(Age, experience, played_minutes, gender)\n",
    "\n",
    "data_summarized <- data_combined |> \n",
    "  summarise(\n",
    "    n = n(),\n",
    "    min_age = min(Age, na.rm = TRUE),\n",
    "    max_age = max(Age, na.rm = TRUE),\n",
    "    mean_age = mean(Age, na.rm = TRUE),\n",
    "    median_age = median(Age, na.rm = TRUE),\n",
    "    min_minutes = min(played_minutes, na.rm = TRUE),\n",
    "    max_minutes = max(played_minutes, na.rm = TRUE),\n",
    "    mean_minutes = mean(played_minutes, na.rm = TRUE),\n",
    "    median_minutes = median(played_minutes, na.rm = TRUE))\n",
    "data_summarized\n",
    "\n",
    "data_split <- initial_split(data_selected, prop = 0.70, strata = played_minutes)\n",
    "data_training <- training(data_split)\n",
    "data_testing <- testing(data_split)"
   ]
  },
  {
   "cell_type": "markdown",
   "id": "3a1a3ab1-ebb3-4567-a753-241f3fcdcc74",
   "metadata": {},
   "source": [
    "Now, we summarize our quantitative explanatory variables to understand their basic properties. This provides early insight on the types of individuals that contribute large amounts of data to the server, helping target the research question.\n",
    "\n",
    "We then proceeded with a few exploratory visualizations of our training dataset to better understand our predictor variables. \n"
   ]
  },
  {
   "cell_type": "code",
   "execution_count": null,
   "id": "905b52af-f668-4968-b636-76ee3997ef31",
   "metadata": {},
   "outputs": [],
   "source": [
    "players_plot1<-data_training|>\n",
    "               ggplot(aes(x=Age, y=played_minutes,color=experience))+\n",
    "               geom_point()+\n",
    "               labs(x=\"Age\", y=\"Total Time Played (Minutes)\", fill=\"Experience\", title=\"Age vs Total Minutes Played\")\n",
    "players_plot1\n",
    "\n",
    "players_plot2<-data_training|>\n",
    "               ggplot(aes(x=Age, y=played_minutes,color=gender))+\n",
    "               geom_point()+\n",
    "               labs(x=\"Age\", y=\"Total Time Played (Minutes)\", fill=\"Gender\", title=\"Age vs Total Minutes Played\")\n",
    "players_plot2"
   ]
  },
  {
   "cell_type": "markdown",
   "id": "9bb5d20e-005d-4d2f-9382-f5a6efdf7def",
   "metadata": {},
   "source": [
    "From these visualizations, it is evident that there are outliers in the original dataset – indicated by the data points with exceptionally high play times. In the context of this data, there are several explanations for these outliers. Some sessions may have never been properly closed (ex. Leaving the game open overnight) which can lead to high play times. Related to this, participants who are aware of the study may have played more/left a play session open for longer to generate data intentionally.\n",
    "\n",
    "To mitigate the effect of outliers on our model’s predicting ability, we omitted play times over 1000 minutes in our final dataset. "
   ]
  },
  {
   "cell_type": "code",
   "execution_count": null,
   "id": "deb51084-8c2a-4aa0-b60c-f37e355654d1",
   "metadata": {},
   "outputs": [],
   "source": [
    "tidyer_sessions <- sessions |>\n",
    "    separate(col = start_time, into = c(\"start_date\", \"start_time\"), sep = \" \")|>\n",
    "    separate(col = end_time, into = c(\"end_date\", \"end_time\"), sep = \" \")|>\n",
    "    mutate(start_time = hm(start_time))|>\n",
    "    mutate(end_time = hm(end_time))|>\n",
    "    mutate(played_minutes = end_time-start_time)|>\n",
    "    mutate(played_minutes = abs(as.numeric(played_minutes)/60))|>\n",
    "    filter(played_minutes <= 1000)\n",
    "\n",
    "\n",
    "data_combined_cleaner<- inner_join(players_tidy, tidyer_sessions, by = \"hashedEmail\")\n",
    "\n",
    "data_selected_cleaner<-data_combined_cleaner|> select(Age, experience, played_minutes, gender)\n",
    "\n",
    "data_summarized_cleaner <- data_combined_cleaner |> \n",
    "  summarise(\n",
    "    n = n(),\n",
    "    min_age = min(Age, na.rm = TRUE),\n",
    "    max_age = max(Age, na.rm = TRUE),\n",
    "    mean_age = mean(Age, na.rm = TRUE),\n",
    "    median_age = median(Age, na.rm = TRUE),\n",
    "    min_minutes = min(played_minutes, na.rm = TRUE),\n",
    "    max_minutes = max(played_minutes, na.rm = TRUE),\n",
    "    mean_minutes = mean(played_minutes, na.rm = TRUE),\n",
    "    median_minutes = median(played_minutes, na.rm = TRUE))\n",
    "data_summarized_cleaner\n",
    "\n",
    "data_split_cleaner <- initial_split(data_selected_cleaner, prop = 0.70, strata = played_minutes)\n",
    "data_training_cleaner <- training(data_split_cleaner)\n",
    "data_testing_cleaner <- testing(data_split_cleaner)\n",
    "\n",
    "players_plot1_cleaner<-data_training_cleaner|>\n",
    "               ggplot(aes(x=Age, y=played_minutes,color=experience))+\n",
    "               geom_point()+\n",
    "               labs(x=\"Age\", y=\"Total Time Played (Minutes)\", fill=\"Experience\", title=\"Age vs Total Minutes Played\")\n",
    "players_plot1_cleaner\n",
    "\n",
    "players_plot2_cleaner<-data_training_cleaner|>\n",
    "               ggplot(aes(x=Age, y=played_minutes,color=gender))+\n",
    "               geom_point()+\n",
    "               labs(x=\"Age\", y=\"Total Time Played (Minutes)\", fill=\"Gender\", title=\"Age vs Total Minutes Played\")\n",
    "players_plot2_cleaner"
   ]
  },
  {
   "cell_type": "markdown",
   "id": "b740204e-a11e-4a57-8904-38669f25f774",
   "metadata": {},
   "source": [
    "From the visualizations, we decided on choosing k-nn regression as our model.\n",
    "We chose k-nn regression because the relationship between the response variable and the predictor shows a nonlinear pattern. The assumption that was made for the KNN regression is that scaling is needed as the points should be in comparable scales in order to compare and calculate the distance between them. A limitation of this model is its slow performance – it must compute the distance of all the points inside the training set which can take time. In addition, the KNN method is also sensitive to the choice of k (number of neighbours). A value too small can lead to an overly sensitive model (overfitting) whilst a value too large can cause the model to ignore important local patterns (underfitting). \n",
    "\n",
    "\n",
    "As mentioned above, we are going to process the data by splitting it into training and testing sets.\n",
    "\n",
    "\n",
    "There will be one initial split which will divide the data set 70% into the training set and 30% into the testing set. This allows us to train our model on the majority of the data, while reserving a portion for testing to evaluate the model’s performance. Then in the training set, we will perform a 5-fold-cross-validation to choose the correct number of neighbors (k). The split will happen before the modelling and the cross-validation is done on the training data.  The cross-validation happens to ensure that there will be an optimal value of K before testing it, leading to a more stable performance of the k-NN when estimating. "
   ]
  },
  {
   "cell_type": "code",
   "execution_count": null,
   "id": "1d817398-6ceb-4688-a1f5-cb874d6103d7",
   "metadata": {},
   "outputs": [],
   "source": [
    "knn_recipe <- recipe(played_minutes ~ Age + experience + gender, data = data_training) |>\n",
    "  step_dummy(all_nominal_predictors()) |> \n",
    "  step_zv(all_predictors())|>\n",
    "  step_normalize(all_predictors())          \n",
    "\n",
    "knn_model <- nearest_neighbor(mode = \"regression\",\n",
    "  neighbors = tune() ) |>\n",
    "  set_engine(\"kknn\")\n",
    "\n",
    "\n",
    "knn_workflow <- workflow() |>\n",
    "  add_model(knn_model) |>\n",
    "  add_recipe(knn_recipe)\n",
    "\n",
    "folds <- vfold_cv(data_training, v=5, strata=played_minutes)\n",
    "\n",
    "knn_grid <- grid_regular(neighbors(range = c(1,25)), levels =10)\n",
    "\n",
    "knn_results <- tune_grid(\n",
    "  knn_workflow,\n",
    "  resamples = folds,\n",
    "  grid = knn_grid,\n",
    "  metrics = metric_set(rmse))\n",
    "\n",
    "best_knn <- knn_results |>\n",
    "  select_best(metric = \"rmse\")\n",
    "final_knn_workflow <- finalize_workflow(knn_workflow, best_knn)\n",
    "\n",
    "final_knn_fit <- final_knn_workflow |>\n",
    "  fit(data = data_training)\n",
    "\n",
    "final_preds <- predict(final_knn_fit, data_testing) |>\n",
    "  bind_cols(data_testing)\n",
    "\n",
    "rmse(final_preds, truth = played_minutes, estimate = .pred)\n",
    "\n",
    "knn_plot<-ggplot(final_preds, aes(x = .pred , y = played_minutes)) +\n",
    "  geom_point(alpha = 0.6) +\n",
    "geom_line(data= final_preds, mapping=aes( y=.pred), color = \"blue\")+\n",
    "  labs(x = \"Actual Played Minutes\", y = \"Predicted Played Minutes\",\n",
    "       title = \"kNN Regression: Actual vs Predicted\")\n",
    "knn_plot"
   ]
  },
  {
   "cell_type": "code",
   "execution_count": null,
   "id": "5793ea43-ed73-4d1e-ad55-f042201d56d3",
   "metadata": {},
   "outputs": [],
   "source": []
  }
 ],
 "metadata": {
  "kernelspec": {
   "display_name": "R",
   "language": "R",
   "name": "ir"
  },
  "language_info": {
   "codemirror_mode": "r",
   "file_extension": ".r",
   "mimetype": "text/x-r-source",
   "name": "R",
   "pygments_lexer": "r",
   "version": "4.3.3"
  }
 },
 "nbformat": 4,
 "nbformat_minor": 5
}
